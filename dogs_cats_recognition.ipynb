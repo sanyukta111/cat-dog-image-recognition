{
 "cells": [
  {
   "cell_type": "code",
   "execution_count": 2,
   "id": "798e847b",
   "metadata": {},
   "outputs": [],
   "source": [
    "import tensorflow as tf\n",
    "from keras.preprocessing.image import ImageDataGenerator"
   ]
  },
  {
   "cell_type": "markdown",
   "id": "e6bfbd82",
   "metadata": {},
   "source": [
    "# Preprocessing Train Data"
   ]
  },
  {
   "cell_type": "code",
   "execution_count": 5,
   "id": "19b987bc",
   "metadata": {},
   "outputs": [
    {
     "name": "stdout",
     "output_type": "stream",
     "text": [
      "Found 8000 images belonging to 2 classes.\n"
     ]
    }
   ],
   "source": [
    "train_datagen = ImageDataGenerator(rescale = 1./255,\n",
    "                                   shear_range = 0.2,\n",
    "                                   zoom_range = 0.2,\n",
    "                                   horizontal_flip = True)\n",
    "training_set = train_datagen.flow_from_directory('projects/datasets/dogs_cats/training_set',\n",
    "                                                 target_size = (64, 64),\n",
    "                                                 batch_size = 32,\n",
    "                                                 class_mode = 'binary')"
   ]
  },
  {
   "cell_type": "markdown",
   "id": "301c247c",
   "metadata": {},
   "source": [
    "# Preprocessing test data"
   ]
  },
  {
   "cell_type": "code",
   "execution_count": 9,
   "id": "27df572d",
   "metadata": {},
   "outputs": [
    {
     "name": "stdout",
     "output_type": "stream",
     "text": [
      "Found 2000 images belonging to 2 classes.\n"
     ]
    }
   ],
   "source": [
    "test_datagen = ImageDataGenerator(rescale = 1./255)\n",
    "test_set = test_datagen.flow_from_directory('projects/datasets/dogs_cats/test_set',\n",
    "                                            target_size = (64, 64),\n",
    "                                            batch_size = 32,\n",
    "                                            class_mode = 'binary')"
   ]
  },
  {
   "cell_type": "markdown",
   "id": "1316e2e6",
   "metadata": {},
   "source": [
    "# Building CNN "
   ]
  },
  {
   "cell_type": "markdown",
   "id": "528c0b8e",
   "metadata": {},
   "source": [
    "# Initializing CNN"
   ]
  },
  {
   "cell_type": "code",
   "execution_count": 10,
   "id": "87014478",
   "metadata": {},
   "outputs": [],
   "source": [
    "cnn = tf.keras.models.Sequential()"
   ]
  },
  {
   "cell_type": "markdown",
   "id": "d6f9bdee",
   "metadata": {},
   "source": [
    "# 1. Convolution"
   ]
  },
  {
   "cell_type": "code",
   "execution_count": 12,
   "id": "514a523d",
   "metadata": {},
   "outputs": [],
   "source": [
    "cnn.add(tf.keras.layers.Conv2D(filters = 32, kernel_size = 3, activation = 'relu', input_shape=[64, 64, 3]))"
   ]
  },
  {
   "cell_type": "markdown",
   "id": "3749ebef",
   "metadata": {},
   "source": [
    "# 2. Pooling"
   ]
  },
  {
   "cell_type": "code",
   "execution_count": 13,
   "id": "43eee006",
   "metadata": {},
   "outputs": [],
   "source": [
    "cnn.add(tf.keras.layers.MaxPool2D(pool_size = 2, strides = 2))"
   ]
  },
  {
   "cell_type": "markdown",
   "id": "f60bbed1",
   "metadata": {},
   "source": [
    "# Add 2nd Convolutional Layer"
   ]
  },
  {
   "cell_type": "code",
   "execution_count": 16,
   "id": "263e04f7",
   "metadata": {},
   "outputs": [],
   "source": [
    "cnn.add(tf.keras.layers.Conv2D(filters = 32, kernel_size = 3, activation = 'relu'))\n",
    "cnn.add(tf.keras.layers.MaxPool2D(pool_size = 2, strides = 2))"
   ]
  },
  {
   "cell_type": "markdown",
   "id": "a80e9d25",
   "metadata": {},
   "source": [
    "# 3. Flattening"
   ]
  },
  {
   "cell_type": "code",
   "execution_count": 17,
   "id": "e1645160",
   "metadata": {},
   "outputs": [],
   "source": [
    "cnn.add(tf.keras.layers.Flatten())"
   ]
  },
  {
   "cell_type": "markdown",
   "id": "845f60a4",
   "metadata": {},
   "source": [
    "# 4. Full connection"
   ]
  },
  {
   "cell_type": "code",
   "execution_count": 18,
   "id": "ddffc907",
   "metadata": {},
   "outputs": [],
   "source": [
    "cnn.add(tf.keras.layers.Dense(units = 128, activation = 'relu'))"
   ]
  },
  {
   "cell_type": "markdown",
   "id": "db1dc246",
   "metadata": {},
   "source": [
    "# Output Layer"
   ]
  },
  {
   "cell_type": "code",
   "execution_count": 19,
   "id": "31ea906a",
   "metadata": {},
   "outputs": [],
   "source": [
    "cnn.add(tf.keras.layers.Dense(units = 1, activation = 'sigmoid'))"
   ]
  },
  {
   "cell_type": "markdown",
   "id": "5f44b78c",
   "metadata": {},
   "source": [
    "# TRAINING THE CNN"
   ]
  },
  {
   "cell_type": "markdown",
   "id": "d3345973",
   "metadata": {},
   "source": [
    "# Compiling the CNN"
   ]
  },
  {
   "cell_type": "code",
   "execution_count": 20,
   "id": "d3dab575",
   "metadata": {},
   "outputs": [],
   "source": [
    "cnn.compile(optimizer = 'adam', loss = 'binary_crossentropy', metrics = ['accuracy'])"
   ]
  },
  {
   "cell_type": "markdown",
   "id": "698c566a",
   "metadata": {},
   "source": [
    "# Training the CNN"
   ]
  },
  {
   "cell_type": "code",
   "execution_count": 22,
   "id": "548a694b",
   "metadata": {},
   "outputs": [
    {
     "name": "stdout",
     "output_type": "stream",
     "text": [
      "Epoch 1/25\n",
      "250/250 [==============================] - 72s 287ms/step - loss: 0.6891 - accuracy: 0.5335 - val_loss: 0.6824 - val_accuracy: 0.6035\n",
      "Epoch 2/25\n",
      "250/250 [==============================] - 33s 130ms/step - loss: 0.6637 - accuracy: 0.6003 - val_loss: 0.6944 - val_accuracy: 0.5675\n",
      "Epoch 3/25\n",
      "250/250 [==============================] - 29s 114ms/step - loss: 0.6365 - accuracy: 0.6371 - val_loss: 0.6072 - val_accuracy: 0.6795\n",
      "Epoch 4/25\n",
      "250/250 [==============================] - 27s 109ms/step - loss: 0.6046 - accuracy: 0.6768 - val_loss: 0.5884 - val_accuracy: 0.6955\n",
      "Epoch 5/25\n",
      "250/250 [==============================] - 34s 136ms/step - loss: 0.5866 - accuracy: 0.6889 - val_loss: 0.5573 - val_accuracy: 0.7290\n",
      "Epoch 6/25\n",
      "250/250 [==============================] - 34s 136ms/step - loss: 0.5603 - accuracy: 0.7121 - val_loss: 0.5495 - val_accuracy: 0.7250\n",
      "Epoch 7/25\n",
      "250/250 [==============================] - 35s 141ms/step - loss: 0.5417 - accuracy: 0.7193 - val_loss: 0.5719 - val_accuracy: 0.7130\n",
      "Epoch 8/25\n",
      "250/250 [==============================] - 35s 142ms/step - loss: 0.5187 - accuracy: 0.7375 - val_loss: 0.4912 - val_accuracy: 0.7635\n",
      "Epoch 9/25\n",
      "250/250 [==============================] - 36s 145ms/step - loss: 0.4979 - accuracy: 0.7529 - val_loss: 0.4973 - val_accuracy: 0.7595\n",
      "Epoch 10/25\n",
      "250/250 [==============================] - 35s 141ms/step - loss: 0.4854 - accuracy: 0.7594 - val_loss: 0.4933 - val_accuracy: 0.7660\n",
      "Epoch 11/25\n",
      "250/250 [==============================] - 32s 127ms/step - loss: 0.4736 - accuracy: 0.7707 - val_loss: 0.4636 - val_accuracy: 0.7905\n",
      "Epoch 12/25\n",
      "250/250 [==============================] - 28s 114ms/step - loss: 0.4576 - accuracy: 0.7789 - val_loss: 0.4840 - val_accuracy: 0.7710\n",
      "Epoch 13/25\n",
      "250/250 [==============================] - 33s 132ms/step - loss: 0.4357 - accuracy: 0.7968 - val_loss: 0.4358 - val_accuracy: 0.8130\n",
      "Epoch 14/25\n",
      "250/250 [==============================] - 36s 143ms/step - loss: 0.4291 - accuracy: 0.7991 - val_loss: 0.4546 - val_accuracy: 0.7965\n",
      "Epoch 15/25\n",
      "250/250 [==============================] - 32s 129ms/step - loss: 0.4199 - accuracy: 0.8039 - val_loss: 0.4505 - val_accuracy: 0.7990\n",
      "Epoch 16/25\n",
      "250/250 [==============================] - 28s 110ms/step - loss: 0.4054 - accuracy: 0.8184 - val_loss: 0.4385 - val_accuracy: 0.7990\n",
      "Epoch 17/25\n",
      "250/250 [==============================] - 27s 110ms/step - loss: 0.3962 - accuracy: 0.8240 - val_loss: 0.4342 - val_accuracy: 0.8125\n",
      "Epoch 18/25\n",
      "250/250 [==============================] - 30s 118ms/step - loss: 0.3844 - accuracy: 0.8274 - val_loss: 0.4924 - val_accuracy: 0.7780\n",
      "Epoch 19/25\n",
      "250/250 [==============================] - 31s 125ms/step - loss: 0.3762 - accuracy: 0.8285 - val_loss: 0.4744 - val_accuracy: 0.8015\n",
      "Epoch 20/25\n",
      "250/250 [==============================] - 30s 121ms/step - loss: 0.3593 - accuracy: 0.8404 - val_loss: 0.4443 - val_accuracy: 0.8115\n",
      "Epoch 21/25\n",
      "250/250 [==============================] - 29s 114ms/step - loss: 0.3635 - accuracy: 0.8346 - val_loss: 0.4248 - val_accuracy: 0.8195\n",
      "Epoch 22/25\n",
      "250/250 [==============================] - 29s 115ms/step - loss: 0.3464 - accuracy: 0.8493 - val_loss: 0.4416 - val_accuracy: 0.8145\n",
      "Epoch 23/25\n",
      "250/250 [==============================] - 30s 118ms/step - loss: 0.3343 - accuracy: 0.8541 - val_loss: 0.4385 - val_accuracy: 0.8120\n",
      "Epoch 24/25\n",
      "250/250 [==============================] - 31s 122ms/step - loss: 0.3190 - accuracy: 0.8581 - val_loss: 0.4425 - val_accuracy: 0.8100\n",
      "Epoch 25/25\n",
      "250/250 [==============================] - 29s 118ms/step - loss: 0.3073 - accuracy: 0.8686 - val_loss: 0.4407 - val_accuracy: 0.8095\n"
     ]
    },
    {
     "data": {
      "text/plain": [
       "<keras.callbacks.History at 0x23ab2ebf700>"
      ]
     },
     "execution_count": 22,
     "metadata": {},
     "output_type": "execute_result"
    }
   ],
   "source": [
    "cnn.fit(x = training_set, validation_data = test_set, epochs = 25)"
   ]
  },
  {
   "cell_type": "code",
   "execution_count": 29,
   "id": "c55775e2",
   "metadata": {},
   "outputs": [
    {
     "name": "stdout",
     "output_type": "stream",
     "text": [
      "1/1 [==============================] - 0s 24ms/step\n"
     ]
    }
   ],
   "source": [
    "import numpy as np\n",
    "from keras.preprocessing import image\n",
    "test_image =  tf.keras.preprocessing.image.load_img('projects/datasets/dogs_cats/single_prediction/cat_dog9.jpg', target_size = (64, 64))\n",
    "test_image = tf.keras.preprocessing.image.img_to_array(test_image)\n",
    "test_image = np.expand_dims(test_image, axis = 0)\n",
    "result = cnn.predict(test_image)\n",
    "training_set.class_indices\n",
    "if result[0][0] == 1:\n",
    "  prediction = 'dog'\n",
    "else:\n",
    "  prediction = 'cat'"
   ]
  },
  {
   "cell_type": "code",
   "execution_count": 30,
   "id": "c829ccab",
   "metadata": {},
   "outputs": [
    {
     "name": "stdout",
     "output_type": "stream",
     "text": [
      "cat\n"
     ]
    }
   ],
   "source": [
    "print(prediction)"
   ]
  },
  {
   "cell_type": "code",
   "execution_count": 31,
   "id": "cd2c3d62",
   "metadata": {},
   "outputs": [
    {
     "name": "stdout",
     "output_type": "stream",
     "text": [
      "[[0.]]\n"
     ]
    }
   ],
   "source": [
    "print(result)"
   ]
  },
  {
   "cell_type": "code",
   "execution_count": 33,
   "id": "a234ab62",
   "metadata": {},
   "outputs": [
    {
     "name": "stdout",
     "output_type": "stream",
     "text": [
      "1/1 [==============================] - 0s 14ms/step\n"
     ]
    }
   ],
   "source": [
    "test_image =  tf.keras.preprocessing.image.load_img('projects/datasets/dogs_cats/single_prediction/cat_dog6.jpg', target_size = (64, 64))\n",
    "test_image = tf.keras.preprocessing.image.img_to_array(test_image)\n",
    "test_image = np.expand_dims(test_image, axis = 0)\n",
    "result = cnn.predict(test_image)\n",
    "training_set.class_indices\n",
    "if result[0][0] == 1:\n",
    "  prediction = 'dog'\n",
    "else:\n",
    "  prediction = 'cat'"
   ]
  },
  {
   "cell_type": "code",
   "execution_count": 34,
   "id": "e13ed302",
   "metadata": {},
   "outputs": [
    {
     "name": "stdout",
     "output_type": "stream",
     "text": [
      "dog\n"
     ]
    }
   ],
   "source": [
    "print(prediction)"
   ]
  },
  {
   "cell_type": "code",
   "execution_count": null,
   "id": "55e3ca6c",
   "metadata": {},
   "outputs": [],
   "source": []
  }
 ],
 "metadata": {
  "kernelspec": {
   "display_name": "Python 3 (ipykernel)",
   "language": "python",
   "name": "python3"
  },
  "language_info": {
   "codemirror_mode": {
    "name": "ipython",
    "version": 3
   },
   "file_extension": ".py",
   "mimetype": "text/x-python",
   "name": "python",
   "nbconvert_exporter": "python",
   "pygments_lexer": "ipython3",
   "version": "3.10.0"
  }
 },
 "nbformat": 4,
 "nbformat_minor": 5
}
